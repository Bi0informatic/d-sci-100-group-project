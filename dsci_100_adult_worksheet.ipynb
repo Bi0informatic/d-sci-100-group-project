{
 "cells": [
  {
   "cell_type": "markdown",
   "id": "5b2944df-ba73-4d2c-af08-743a4c9fbec1",
   "metadata": {
    "tags": []
   },
   "source": [
    "# DSCI 100 Group Proposal to Investigate Income Predictors\n"
   ]
  },
  {
   "cell_type": "markdown",
   "id": "d1a52031-25eb-4c87-8a8a-ca1dc5d5ecd9",
   "metadata": {},
   "source": [
    "### Introduction"
   ]
  },
  {
   "cell_type": "markdown",
   "id": "f338e909-d438-4955-be11-625446f08e2d",
   "metadata": {},
   "source": [
    "In the past, many studies have highlighted the interplay between socioeconomic factors and an individual’s financial success in the workplace. In this dataset, a census from 1994, data was collected for various categorical, numeric, and binary variables, including age, work class, occupation, hours worked per week, marital status, sex, capital gain, capital loss, and native country. Previous studies have supported the notion of differences in earnings with different work times and levels of education, the latter of which Harvard Business School refers to as the “degree gap” (Fuller et al., 2017). Therefore, using data related to these two variables for our project, we aim to answer the question: do work hours and education levels predict whether or not a person’s income would exceed $50,000 a year in 1994?  \n"
   ]
  },
  {
   "cell_type": "markdown",
   "id": "b2ed60c2-ec0d-4f34-aea0-7777f6d4a1eb",
   "metadata": {
    "tags": []
   },
   "source": [
    "### Methods"
   ]
  },
  {
   "cell_type": "markdown",
   "id": "1702760a-51f4-427c-849d-87a61cc45f97",
   "metadata": {
    "tags": []
   },
   "source": [
    "We expect to conduct our data analysis by determining the k-value with the most accuracy and performing a k-nearest-neighbor classification. We plan to set the binary “income” variable (>\\\\$50K, <=\\\\$50K) as the response variable and “work_hours_per_week” (1 - 99 hours) and “education_num” (levels 1 - 16) as the predictor variables. Thus, we believe these two variables are among the most relevant variables affecting an individual’s income bracket and are curious to see how accurately these variables can predict said income bracket. To visualize the results, we will use a scatterplot of the work_hours_per_week and education_num variables, color-coded with the binary income options of >\\\\$50K and <=\\\\$50K. "
   ]
  },
  {
   "cell_type": "markdown",
   "id": "650d639a-bb60-4d47-90c0-09d62a55a27c",
   "metadata": {},
   "source": [
    "### Significance"
   ]
  },
  {
   "cell_type": "markdown",
   "id": "d836f4ba-b1d6-44c3-9e00-bcba91738ee6",
   "metadata": {},
   "source": [
    "After our analysis, we expect to find that those with education levels on the lower ends of the spectrum, despite working a greater number of hours per week, would be predicted to make less than \\\\$50K in 1994 compared to an individual working equivalent or fewer hours with a higher academic degree. This could be because higher-paying jobs in 1994 were barred behind progressively increasing academic qualifications, making it so that longer working hours did not necessarily equate to increased odds of making more than \\\\$50K. Thus, the impact of these findings from 1994 could show the importance of breaking barriers to higher education given the current rise of degree inflation, where even a bachelor’s is now regarded with diminishing importance in the workplace. These findings could also be used for future questions and research comparing the progression, extent, and effects of degree inflation within the past 20 years.\n"
   ]
  },
  {
   "cell_type": "code",
   "execution_count": null,
   "id": "6317f745-aedc-4c5a-890f-f3dc40a4faad",
   "metadata": {
    "tags": []
   },
   "outputs": [],
   "source": [
    "### Run this cell before continuing. \n",
    "library(tidyverse)\n",
    "library(repr)\n",
    "library(readxl)\n",
    "library(tidymodels)\n",
    "install.packages(\"kknn\")\n",
    "library(kknn)\n",
    "\n",
    "options(repr.matrix.max.rows = 6)"
   ]
  },
  {
   "cell_type": "code",
   "execution_count": null,
   "id": "51ae174a-3b7a-4b75-9d28-77bc5e33a078",
   "metadata": {
    "tags": []
   },
   "outputs": [],
   "source": [
    "adult_data <- read_csv(\"data/adult.data\")\n",
    "colnames(adult_data) <- c(\"age\", \"workclass\", \"fnlwgt\", \"education\", \"education_num\", \"marital_status\", \"occupation\", \"relationship\", \"race\", \"sex\", \"capital_gain\", \"capital_loss\", \"hours_per_week\", \"native_country\", \"income\")\n",
    "adult_data"
   ]
  },
  {
   "cell_type": "code",
   "execution_count": null,
   "id": "600bb39b-c00d-465b-877d-2d443ad0716e",
   "metadata": {
    "tags": []
   },
   "outputs": [],
   "source": [
    "adult_data_selected <- select(adult_data, income, hours_per_week, education_num, education) \n",
    "adult_split <- initial_split(adult_data_selected, prop = 0.75, strata = income)\n",
    "adult_training <- training(adult_split) \n",
    "adult_testing <- testing(adult_split)\n",
    "adult_testing_recipe <- recipe(income ~ education_num, hours_per_week, data = adult_training) |>\n",
    "    step_center(all_predictors()) |>\n",
    "    step_scale(all_predictors())\n",
    "\n",
    "\n",
    "\n",
    "\n"
   ]
  },
  {
   "cell_type": "markdown",
   "id": "ddad6fc1-1e49-4610-8e32-9ed3bd0ca674",
   "metadata": {},
   "source": [
    "### Exploratory Data Analysis"
   ]
  },
  {
   "cell_type": "code",
   "execution_count": 21,
   "id": "a9f02f18-eb35-46d0-99a6-09778798e38f",
   "metadata": {
    "tags": []
   },
   "outputs": [
    {
     "data": {
      "text/html": [
       "<table class=\"dataframe\">\n",
       "<caption>A tibble: 2 × 2</caption>\n",
       "<thead>\n",
       "\t<tr><th scope=col>income</th><th scope=col>count</th></tr>\n",
       "\t<tr><th scope=col>&lt;chr&gt;</th><th scope=col>&lt;int&gt;</th></tr>\n",
       "</thead>\n",
       "<tbody>\n",
       "\t<tr><td>&lt;=50K</td><td>24719</td></tr>\n",
       "\t<tr><td>&gt;50K </td><td> 7841</td></tr>\n",
       "</tbody>\n",
       "</table>\n"
      ],
      "text/latex": [
       "A tibble: 2 × 2\n",
       "\\begin{tabular}{ll}\n",
       " income & count\\\\\n",
       " <chr> & <int>\\\\\n",
       "\\hline\n",
       "\t <=50K & 24719\\\\\n",
       "\t >50K  &  7841\\\\\n",
       "\\end{tabular}\n"
      ],
      "text/markdown": [
       "\n",
       "A tibble: 2 × 2\n",
       "\n",
       "| income &lt;chr&gt; | count &lt;int&gt; |\n",
       "|---|---|\n",
       "| &lt;=50K | 24719 |\n",
       "| &gt;50K  |  7841 |\n",
       "\n"
      ],
      "text/plain": [
       "  income count\n",
       "1 <=50K  24719\n",
       "2 >50K    7841"
      ]
     },
     "metadata": {},
     "output_type": "display_data"
    },
    {
     "data": {
      "text/html": [
       "<table class=\"dataframe\">\n",
       "<caption>A tibble: 2 × 2</caption>\n",
       "<thead>\n",
       "\t<tr><th scope=col>income</th><th scope=col>mean_hrs_per_wk</th></tr>\n",
       "\t<tr><th scope=col>&lt;chr&gt;</th><th scope=col>&lt;dbl&gt;</th></tr>\n",
       "</thead>\n",
       "<tbody>\n",
       "\t<tr><td>&lt;=50K</td><td>38.84016</td></tr>\n",
       "\t<tr><td>&gt;50K </td><td>45.47303</td></tr>\n",
       "</tbody>\n",
       "</table>\n"
      ],
      "text/latex": [
       "A tibble: 2 × 2\n",
       "\\begin{tabular}{ll}\n",
       " income & mean\\_hrs\\_per\\_wk\\\\\n",
       " <chr> & <dbl>\\\\\n",
       "\\hline\n",
       "\t <=50K & 38.84016\\\\\n",
       "\t >50K  & 45.47303\\\\\n",
       "\\end{tabular}\n"
      ],
      "text/markdown": [
       "\n",
       "A tibble: 2 × 2\n",
       "\n",
       "| income &lt;chr&gt; | mean_hrs_per_wk &lt;dbl&gt; |\n",
       "|---|---|\n",
       "| &lt;=50K | 38.84016 |\n",
       "| &gt;50K  | 45.47303 |\n",
       "\n"
      ],
      "text/plain": [
       "  income mean_hrs_per_wk\n",
       "1 <=50K  38.84016       \n",
       "2 >50K   45.47303       "
      ]
     },
     "metadata": {},
     "output_type": "display_data"
    },
    {
     "data": {
      "text/html": [
       "<table class=\"dataframe\">\n",
       "<caption>A tibble: 2 × 2</caption>\n",
       "<thead>\n",
       "\t<tr><th scope=col>income</th><th scope=col>mean_education_num</th></tr>\n",
       "\t<tr><th scope=col>&lt;chr&gt;</th><th scope=col>&lt;dbl&gt;</th></tr>\n",
       "</thead>\n",
       "<tbody>\n",
       "\t<tr><td>&lt;=50K</td><td> 9.594927</td></tr>\n",
       "\t<tr><td>&gt;50K </td><td>11.611657</td></tr>\n",
       "</tbody>\n",
       "</table>\n"
      ],
      "text/latex": [
       "A tibble: 2 × 2\n",
       "\\begin{tabular}{ll}\n",
       " income & mean\\_education\\_num\\\\\n",
       " <chr> & <dbl>\\\\\n",
       "\\hline\n",
       "\t <=50K &  9.594927\\\\\n",
       "\t >50K  & 11.611657\\\\\n",
       "\\end{tabular}\n"
      ],
      "text/markdown": [
       "\n",
       "A tibble: 2 × 2\n",
       "\n",
       "| income &lt;chr&gt; | mean_education_num &lt;dbl&gt; |\n",
       "|---|---|\n",
       "| &lt;=50K |  9.594927 |\n",
       "| &gt;50K  | 11.611657 |\n",
       "\n"
      ],
      "text/plain": [
       "  income mean_education_num\n",
       "1 <=50K   9.594927         \n",
       "2 >50K   11.611657         "
      ]
     },
     "metadata": {},
     "output_type": "display_data"
    }
   ],
   "source": [
    "income_sum <- adult_data_selected |> \n",
    "                group_by(income) |> \n",
    "                summarize(count = n())\n",
    "\n",
    "\n",
    "mean_hrs_per_wk <- adult_data_selected |>\n",
    "                group_by(income) |>\n",
    "                summarize(mean_hrs_per_wk = mean(hours_per_week) )\n",
    "mean_education_num <- adult_data_selected |>\n",
    "                group_by(income)|>\n",
    "                summarize(mean_education_num = mean(education_num))\n",
    "\n",
    "income_sum\n",
    "mean_hrs_per_wk\n",
    "mean_education_num"
   ]
  },
  {
   "cell_type": "markdown",
   "id": "c1c44a50-7707-49f6-8d87-1d6a8e2025db",
   "metadata": {},
   "source": [
    "### Visualization"
   ]
  },
  {
   "cell_type": "markdown",
   "id": "9c916368-c42a-443a-aa97-065775af8529",
   "metadata": {},
   "source": [
    "DISCLAIMER: This model takes a while to run due to there being 32560 individuals."
   ]
  },
  {
   "cell_type": "code",
   "execution_count": null,
   "id": "78a6ce10-2add-4ff4-9bbf-77ec2b2187f6",
   "metadata": {
    "tags": []
   },
   "outputs": [],
   "source": [
    "knn_spec <- nearest_neighbor(weight_func = \"rectangular\", neighbors = tune()) |>\n",
    "    set_engine(\"kknn\") |>\n",
    "    set_mode(\"classification\")\n",
    "\n",
    "adult_testing_recipe <- recipe(income ~ education_num + hours_per_week, data = adult_training) |>\n",
    "    step_center(all_predictors()) |>\n",
    "    step_scale(all_predictors())\n",
    "\n",
    "adult_vfold <- vfold_cv(adult_training, v = 5, strata = income)\n",
    "\n",
    "gridvals <- tibble(neighbors = seq(from = 1, to = 500, by = 20))\n",
    "\n",
    "adult_training_workflow <- workflow() |>\n",
    "                add_recipe(adult_testing_recipe) |>\n",
    "                add_model(knn_spec) |>\n",
    "                tune_grid(resamples = adult_vfold, grid = gridvals) \n",
    "\n",
    "\n",
    "adult_metrics <- adult_training_workflow |>\n",
    "collect_metrics() |>\n",
    "filter(.metric == \"accuracy\")\n",
    "\n",
    "\n"
   ]
  },
  {
   "cell_type": "code",
   "execution_count": null,
   "id": "4f7aef21-9fad-4033-9f9b-28e73dbe9459",
   "metadata": {
    "tags": []
   },
   "outputs": [],
   "source": [
    "adult_metric_plot <- ggplot(adult_metrics, aes(x = neighbors, y = mean)) +\n",
    "    geom_point() +\n",
    "    geom_line() +\n",
    "    labs(x = \"Neighbors\", y = \"Accuracy Estimate\")\n",
    "adult_metric_plot\n",
    "\n",
    "adult_max <- adult_metrics |>\n",
    "        filter(neighbors == max(neighbors))\n",
    "       \n",
    "a_max <- adult_max |> pull(neighbors)\n",
    "\n",
    "a_max\n"
   ]
  },
  {
   "cell_type": "markdown",
   "id": "14f602ed-7098-47a8-9502-f76ab77b74cd",
   "metadata": {},
   "source": [
    "Works Cited\n",
    "\n",
    "Fuller, J., Raman, M., et al. (2017). Dismissed By Degrees. Published by Accenture, Grads of Life, Harvard Business School.\n"
   ]
  },
  {
   "cell_type": "code",
   "execution_count": null,
   "id": "f717ffbf-7001-410c-ba00-5d3f29c724d5",
   "metadata": {},
   "outputs": [],
   "source": []
  }
 ],
 "metadata": {
  "kernelspec": {
   "display_name": "R",
   "language": "R",
   "name": "ir"
  },
  "language_info": {
   "codemirror_mode": "r",
   "file_extension": ".r",
   "mimetype": "text/x-r-source",
   "name": "R",
   "pygments_lexer": "r",
   "version": "4.2.2"
  }
 },
 "nbformat": 4,
 "nbformat_minor": 5
}
