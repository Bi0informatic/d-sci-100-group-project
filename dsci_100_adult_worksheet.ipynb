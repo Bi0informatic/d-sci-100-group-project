{
 "cells": [
  {
   "cell_type": "markdown",
   "id": "5b2944df-ba73-4d2c-af08-743a4c9fbec1",
   "metadata": {
    "tags": []
   },
   "source": [
    "# DSCI 100 Group Proposal to Investigate Income Predictors\n"
   ]
  },
  {
   "cell_type": "markdown",
   "id": "d1a52031-25eb-4c87-8a8a-ca1dc5d5ecd9",
   "metadata": {},
   "source": [
    "### Introduction"
   ]
  },
  {
   "cell_type": "markdown",
   "id": "f338e909-d438-4955-be11-625446f08e2d",
   "metadata": {},
   "source": [
    "In the past, many studies have highlighted the interplay between socioeconomic factors and an individual’s financial success in the workplace. In this dataset, a census from 1994, data was collected for various categorical, numeric, and binary variables, including age, work class, occupation, hours worked per week, marital status, sex, capital gain, capital loss, and native country. Previous studies have supported the notion of differences in earnings with different work times and levels of education, the latter of which Harvard Business School refers to as the “degree gap” (Fuller et al., 2017). Therefore, using data related to these two variables for our project, we aim to answer the question: do work hours and education levels predict whether or not a person’s income would exceed $50,000 a year in 1994?  \n"
   ]
  },
  {
   "cell_type": "markdown",
   "id": "b2ed60c2-ec0d-4f34-aea0-7777f6d4a1eb",
   "metadata": {
    "tags": []
   },
   "source": [
    "### Methods"
   ]
  },
  {
   "cell_type": "markdown",
   "id": "1702760a-51f4-427c-849d-87a61cc45f97",
   "metadata": {
    "tags": []
   },
   "source": [
    "We expect to conduct our data analysis by determining the k-value with the most accuracy and performing a k-nearest-neighbor classification. We plan to set the binary “income” variable (>\\\\$50K, <=\\\\$50K) as the response variable and “work_hours_per_week” (1 - 99 hours) and “education_num” (levels 1 - 16) as the predictor variables. Thus, we believe these two variables are among the most relevant variables affecting an individual’s income bracket and are curious to see how accurately these variables can predict said income bracket. To visualize the results, we will use a scatterplot of the work_hours_per_week and education_num variables, color-coded with the binary income options of >\\\\$50K and <=\\\\$50K. "
   ]
  },
  {
   "cell_type": "markdown",
   "id": "650d639a-bb60-4d47-90c0-09d62a55a27c",
   "metadata": {},
   "source": [
    "### Significance"
   ]
  },
  {
   "cell_type": "markdown",
   "id": "d836f4ba-b1d6-44c3-9e00-bcba91738ee6",
   "metadata": {},
   "source": [
    "After our analysis, we expect to find that those with education levels on the lower ends of the spectrum, despite working a greater number of hours per week, would be predicted to make less than \\\\$50K in 1994 compared to an individual working equivalent or fewer hours with a higher academic degree. This could be because higher-paying jobs in 1994 were barred behind progressively increasing academic qualifications, making it so that longer working hours did not necessarily equate to increased odds of making more than \\\\$50K. Thus, the impact of these findings from 1994 could show the importance of breaking barriers to higher education given the current rise of degree inflation, where even a bachelor’s is now regarded with diminishing importance in the workplace. These findings could also be used for future questions and research comparing the progression, extent, and effects of degree inflation within the past 20 years.\n"
   ]
  },
  {
   "cell_type": "code",
   "execution_count": 1,
   "id": "6317f745-aedc-4c5a-890f-f3dc40a4faad",
   "metadata": {
    "tags": []
   },
   "outputs": [
    {
     "name": "stderr",
     "output_type": "stream",
     "text": [
      "── \u001b[1mAttaching packages\u001b[22m ─────────────────────────────────────── tidyverse 1.3.2 ──\n",
      "\u001b[32m✔\u001b[39m \u001b[34mggplot2\u001b[39m 3.4.2     \u001b[32m✔\u001b[39m \u001b[34mpurrr  \u001b[39m 1.0.1\n",
      "\u001b[32m✔\u001b[39m \u001b[34mtibble \u001b[39m 3.2.1     \u001b[32m✔\u001b[39m \u001b[34mdplyr  \u001b[39m 1.1.1\n",
      "\u001b[32m✔\u001b[39m \u001b[34mtidyr  \u001b[39m 1.3.0     \u001b[32m✔\u001b[39m \u001b[34mstringr\u001b[39m 1.5.0\n",
      "\u001b[32m✔\u001b[39m \u001b[34mreadr  \u001b[39m 2.1.3     \u001b[32m✔\u001b[39m \u001b[34mforcats\u001b[39m 0.5.2\n",
      "── \u001b[1mConflicts\u001b[22m ────────────────────────────────────────── tidyverse_conflicts() ──\n",
      "\u001b[31m✖\u001b[39m \u001b[34mdplyr\u001b[39m::\u001b[32mfilter()\u001b[39m masks \u001b[34mstats\u001b[39m::filter()\n",
      "\u001b[31m✖\u001b[39m \u001b[34mdplyr\u001b[39m::\u001b[32mlag()\u001b[39m    masks \u001b[34mstats\u001b[39m::lag()\n",
      "── \u001b[1mAttaching packages\u001b[22m ────────────────────────────────────── tidymodels 1.0.0 ──\n",
      "\n",
      "\u001b[32m✔\u001b[39m \u001b[34mbroom       \u001b[39m 1.0.2     \u001b[32m✔\u001b[39m \u001b[34mrsample     \u001b[39m 1.1.1\n",
      "\u001b[32m✔\u001b[39m \u001b[34mdials       \u001b[39m 1.1.0     \u001b[32m✔\u001b[39m \u001b[34mtune        \u001b[39m 1.0.1\n",
      "\u001b[32m✔\u001b[39m \u001b[34minfer       \u001b[39m 1.0.4     \u001b[32m✔\u001b[39m \u001b[34mworkflows   \u001b[39m 1.1.2\n",
      "\u001b[32m✔\u001b[39m \u001b[34mmodeldata   \u001b[39m 1.0.1     \u001b[32m✔\u001b[39m \u001b[34mworkflowsets\u001b[39m 1.0.0\n",
      "\u001b[32m✔\u001b[39m \u001b[34mparsnip     \u001b[39m 1.0.3     \u001b[32m✔\u001b[39m \u001b[34myardstick   \u001b[39m 1.1.0\n",
      "\u001b[32m✔\u001b[39m \u001b[34mrecipes     \u001b[39m 1.0.4     \n",
      "\n",
      "── \u001b[1mConflicts\u001b[22m ───────────────────────────────────────── tidymodels_conflicts() ──\n",
      "\u001b[31m✖\u001b[39m \u001b[34mscales\u001b[39m::\u001b[32mdiscard()\u001b[39m masks \u001b[34mpurrr\u001b[39m::discard()\n",
      "\u001b[31m✖\u001b[39m \u001b[34mdplyr\u001b[39m::\u001b[32mfilter()\u001b[39m   masks \u001b[34mstats\u001b[39m::filter()\n",
      "\u001b[31m✖\u001b[39m \u001b[34mrecipes\u001b[39m::\u001b[32mfixed()\u001b[39m  masks \u001b[34mstringr\u001b[39m::fixed()\n",
      "\u001b[31m✖\u001b[39m \u001b[34mdplyr\u001b[39m::\u001b[32mlag()\u001b[39m      masks \u001b[34mstats\u001b[39m::lag()\n",
      "\u001b[31m✖\u001b[39m \u001b[34myardstick\u001b[39m::\u001b[32mspec()\u001b[39m masks \u001b[34mreadr\u001b[39m::spec()\n",
      "\u001b[31m✖\u001b[39m \u001b[34mrecipes\u001b[39m::\u001b[32mstep()\u001b[39m   masks \u001b[34mstats\u001b[39m::step()\n",
      "\u001b[34m•\u001b[39m Dig deeper into tidy modeling with R at \u001b[32mhttps://www.tmwr.org\u001b[39m\n",
      "\n",
      "Updating HTML index of packages in '.Library'\n",
      "\n",
      "Making 'packages.html' ...\n",
      " done\n",
      "\n"
     ]
    }
   ],
   "source": [
    "### Run this cell before continuing. \n",
    "library(tidyverse)\n",
    "library(repr)\n",
    "library(readxl)\n",
    "library(tidymodels)\n",
    "install.packages(\"kknn\")\n",
    "library(kknn)\n",
    "\n",
    "options(repr.matrix.max.rows = 6)"
   ]
  },
  {
   "cell_type": "code",
   "execution_count": 2,
   "id": "51ae174a-3b7a-4b75-9d28-77bc5e33a078",
   "metadata": {
    "tags": []
   },
   "outputs": [
    {
     "name": "stderr",
     "output_type": "stream",
     "text": [
      "\u001b[1mRows: \u001b[22m\u001b[34m32560\u001b[39m \u001b[1mColumns: \u001b[22m\u001b[34m15\u001b[39m\n",
      "\u001b[36m──\u001b[39m \u001b[1mColumn specification\u001b[22m \u001b[36m────────────────────────────────────────────────────────\u001b[39m\n",
      "\u001b[1mDelimiter:\u001b[22m \",\"\n",
      "\u001b[31mchr\u001b[39m (9): State-gov, Bachelors, Never-married, Adm-clerical, Not-in-family, W...\n",
      "\u001b[32mdbl\u001b[39m (6): 39, 77516, 13, 2174, 0, 40\n",
      "\n",
      "\u001b[36mℹ\u001b[39m Use `spec()` to retrieve the full column specification for this data.\n",
      "\u001b[36mℹ\u001b[39m Specify the column types or set `show_col_types = FALSE` to quiet this message.\n"
     ]
    },
    {
     "data": {
      "text/html": [
       "<table class=\"dataframe\">\n",
       "<caption>A spec_tbl_df: 32560 × 15</caption>\n",
       "<thead>\n",
       "\t<tr><th scope=col>age</th><th scope=col>workclass</th><th scope=col>fnlwgt</th><th scope=col>education</th><th scope=col>education_num</th><th scope=col>marital_status</th><th scope=col>occupation</th><th scope=col>relationship</th><th scope=col>race</th><th scope=col>sex</th><th scope=col>capital_gain</th><th scope=col>capital_loss</th><th scope=col>hours_per_week</th><th scope=col>native_country</th><th scope=col>income</th></tr>\n",
       "\t<tr><th scope=col>&lt;dbl&gt;</th><th scope=col>&lt;chr&gt;</th><th scope=col>&lt;dbl&gt;</th><th scope=col>&lt;chr&gt;</th><th scope=col>&lt;dbl&gt;</th><th scope=col>&lt;chr&gt;</th><th scope=col>&lt;chr&gt;</th><th scope=col>&lt;chr&gt;</th><th scope=col>&lt;chr&gt;</th><th scope=col>&lt;chr&gt;</th><th scope=col>&lt;dbl&gt;</th><th scope=col>&lt;dbl&gt;</th><th scope=col>&lt;dbl&gt;</th><th scope=col>&lt;chr&gt;</th><th scope=col>&lt;chr&gt;</th></tr>\n",
       "</thead>\n",
       "<tbody>\n",
       "\t<tr><td>50</td><td>Self-emp-not-inc</td><td> 83311</td><td>Bachelors</td><td>13</td><td>Married-civ-spouse</td><td><span style=white-space:pre-wrap>Exec-managerial  </span></td><td><span style=white-space:pre-wrap>Husband      </span></td><td>White</td><td>Male</td><td>0</td><td>0</td><td>13</td><td>United-States</td><td>&lt;=50K</td></tr>\n",
       "\t<tr><td>38</td><td><span style=white-space:pre-wrap>Private         </span></td><td>215646</td><td><span style=white-space:pre-wrap>HS-grad  </span></td><td> 9</td><td><span style=white-space:pre-wrap>Divorced          </span></td><td>Handlers-cleaners</td><td>Not-in-family</td><td>White</td><td>Male</td><td>0</td><td>0</td><td>40</td><td>United-States</td><td>&lt;=50K</td></tr>\n",
       "\t<tr><td>53</td><td><span style=white-space:pre-wrap>Private         </span></td><td>234721</td><td><span style=white-space:pre-wrap>11th     </span></td><td> 7</td><td>Married-civ-spouse</td><td>Handlers-cleaners</td><td><span style=white-space:pre-wrap>Husband      </span></td><td>Black</td><td>Male</td><td>0</td><td>0</td><td>40</td><td>United-States</td><td>&lt;=50K</td></tr>\n",
       "\t<tr><td>⋮</td><td>⋮</td><td>⋮</td><td>⋮</td><td>⋮</td><td>⋮</td><td>⋮</td><td>⋮</td><td>⋮</td><td>⋮</td><td>⋮</td><td>⋮</td><td>⋮</td><td>⋮</td><td>⋮</td></tr>\n",
       "\t<tr><td>58</td><td><span style=white-space:pre-wrap>Private     </span></td><td>151910</td><td>HS-grad</td><td>9</td><td><span style=white-space:pre-wrap>Widowed           </span></td><td><span style=white-space:pre-wrap>Adm-clerical   </span></td><td>Unmarried</td><td>White</td><td>Female</td><td><span style=white-space:pre-wrap>    0</span></td><td>0</td><td>40</td><td>United-States</td><td>&lt;=50K</td></tr>\n",
       "\t<tr><td>22</td><td><span style=white-space:pre-wrap>Private     </span></td><td>201490</td><td>HS-grad</td><td>9</td><td><span style=white-space:pre-wrap>Never-married     </span></td><td><span style=white-space:pre-wrap>Adm-clerical   </span></td><td>Own-child</td><td>White</td><td><span style=white-space:pre-wrap>Male  </span></td><td><span style=white-space:pre-wrap>    0</span></td><td>0</td><td>20</td><td>United-States</td><td>&lt;=50K</td></tr>\n",
       "\t<tr><td>52</td><td>Self-emp-inc</td><td>287927</td><td>HS-grad</td><td>9</td><td>Married-civ-spouse</td><td>Exec-managerial</td><td><span style=white-space:pre-wrap>Wife     </span></td><td>White</td><td>Female</td><td>15024</td><td>0</td><td>40</td><td>United-States</td><td>&gt;50K </td></tr>\n",
       "</tbody>\n",
       "</table>\n"
      ],
      "text/latex": [
       "A spec\\_tbl\\_df: 32560 × 15\n",
       "\\begin{tabular}{lllllllllllllll}\n",
       " age & workclass & fnlwgt & education & education\\_num & marital\\_status & occupation & relationship & race & sex & capital\\_gain & capital\\_loss & hours\\_per\\_week & native\\_country & income\\\\\n",
       " <dbl> & <chr> & <dbl> & <chr> & <dbl> & <chr> & <chr> & <chr> & <chr> & <chr> & <dbl> & <dbl> & <dbl> & <chr> & <chr>\\\\\n",
       "\\hline\n",
       "\t 50 & Self-emp-not-inc &  83311 & Bachelors & 13 & Married-civ-spouse & Exec-managerial   & Husband       & White & Male & 0 & 0 & 13 & United-States & <=50K\\\\\n",
       "\t 38 & Private          & 215646 & HS-grad   &  9 & Divorced           & Handlers-cleaners & Not-in-family & White & Male & 0 & 0 & 40 & United-States & <=50K\\\\\n",
       "\t 53 & Private          & 234721 & 11th      &  7 & Married-civ-spouse & Handlers-cleaners & Husband       & Black & Male & 0 & 0 & 40 & United-States & <=50K\\\\\n",
       "\t ⋮ & ⋮ & ⋮ & ⋮ & ⋮ & ⋮ & ⋮ & ⋮ & ⋮ & ⋮ & ⋮ & ⋮ & ⋮ & ⋮ & ⋮\\\\\n",
       "\t 58 & Private      & 151910 & HS-grad & 9 & Widowed            & Adm-clerical    & Unmarried & White & Female &     0 & 0 & 40 & United-States & <=50K\\\\\n",
       "\t 22 & Private      & 201490 & HS-grad & 9 & Never-married      & Adm-clerical    & Own-child & White & Male   &     0 & 0 & 20 & United-States & <=50K\\\\\n",
       "\t 52 & Self-emp-inc & 287927 & HS-grad & 9 & Married-civ-spouse & Exec-managerial & Wife      & White & Female & 15024 & 0 & 40 & United-States & >50K \\\\\n",
       "\\end{tabular}\n"
      ],
      "text/markdown": [
       "\n",
       "A spec_tbl_df: 32560 × 15\n",
       "\n",
       "| age &lt;dbl&gt; | workclass &lt;chr&gt; | fnlwgt &lt;dbl&gt; | education &lt;chr&gt; | education_num &lt;dbl&gt; | marital_status &lt;chr&gt; | occupation &lt;chr&gt; | relationship &lt;chr&gt; | race &lt;chr&gt; | sex &lt;chr&gt; | capital_gain &lt;dbl&gt; | capital_loss &lt;dbl&gt; | hours_per_week &lt;dbl&gt; | native_country &lt;chr&gt; | income &lt;chr&gt; |\n",
       "|---|---|---|---|---|---|---|---|---|---|---|---|---|---|---|\n",
       "| 50 | Self-emp-not-inc |  83311 | Bachelors | 13 | Married-civ-spouse | Exec-managerial   | Husband       | White | Male | 0 | 0 | 13 | United-States | &lt;=50K |\n",
       "| 38 | Private          | 215646 | HS-grad   |  9 | Divorced           | Handlers-cleaners | Not-in-family | White | Male | 0 | 0 | 40 | United-States | &lt;=50K |\n",
       "| 53 | Private          | 234721 | 11th      |  7 | Married-civ-spouse | Handlers-cleaners | Husband       | Black | Male | 0 | 0 | 40 | United-States | &lt;=50K |\n",
       "| ⋮ | ⋮ | ⋮ | ⋮ | ⋮ | ⋮ | ⋮ | ⋮ | ⋮ | ⋮ | ⋮ | ⋮ | ⋮ | ⋮ | ⋮ |\n",
       "| 58 | Private      | 151910 | HS-grad | 9 | Widowed            | Adm-clerical    | Unmarried | White | Female |     0 | 0 | 40 | United-States | &lt;=50K |\n",
       "| 22 | Private      | 201490 | HS-grad | 9 | Never-married      | Adm-clerical    | Own-child | White | Male   |     0 | 0 | 20 | United-States | &lt;=50K |\n",
       "| 52 | Self-emp-inc | 287927 | HS-grad | 9 | Married-civ-spouse | Exec-managerial | Wife      | White | Female | 15024 | 0 | 40 | United-States | &gt;50K  |\n",
       "\n"
      ],
      "text/plain": [
       "      age workclass        fnlwgt education education_num marital_status    \n",
       "1     50  Self-emp-not-inc  83311 Bachelors 13            Married-civ-spouse\n",
       "2     38  Private          215646 HS-grad    9            Divorced          \n",
       "3     53  Private          234721 11th       7            Married-civ-spouse\n",
       "⋮     ⋮   ⋮                ⋮      ⋮         ⋮             ⋮                 \n",
       "32558 58  Private          151910 HS-grad   9             Widowed           \n",
       "32559 22  Private          201490 HS-grad   9             Never-married     \n",
       "32560 52  Self-emp-inc     287927 HS-grad   9             Married-civ-spouse\n",
       "      occupation        relationship  race  sex    capital_gain capital_loss\n",
       "1     Exec-managerial   Husband       White Male   0            0           \n",
       "2     Handlers-cleaners Not-in-family White Male   0            0           \n",
       "3     Handlers-cleaners Husband       Black Male   0            0           \n",
       "⋮     ⋮                 ⋮             ⋮     ⋮      ⋮            ⋮           \n",
       "32558 Adm-clerical      Unmarried     White Female     0        0           \n",
       "32559 Adm-clerical      Own-child     White Male       0        0           \n",
       "32560 Exec-managerial   Wife          White Female 15024        0           \n",
       "      hours_per_week native_country income\n",
       "1     13             United-States  <=50K \n",
       "2     40             United-States  <=50K \n",
       "3     40             United-States  <=50K \n",
       "⋮     ⋮              ⋮              ⋮     \n",
       "32558 40             United-States  <=50K \n",
       "32559 20             United-States  <=50K \n",
       "32560 40             United-States  >50K  "
      ]
     },
     "metadata": {},
     "output_type": "display_data"
    }
   ],
   "source": [
    "adult_data <- read_csv(\"data/adult.data\")\n",
    "colnames(adult_data) <- c(\"age\", \"workclass\", \"fnlwgt\", \"education\", \"education_num\", \"marital_status\", \"occupation\", \"relationship\", \"race\", \"sex\", \"capital_gain\", \"capital_loss\", \"hours_per_week\", \"native_country\", \"income\")\n",
    "adult_data"
   ]
  },
  {
   "cell_type": "code",
   "execution_count": 3,
   "id": "600bb39b-c00d-465b-877d-2d443ad0716e",
   "metadata": {
    "tags": []
   },
   "outputs": [],
   "source": [
    "adult_data_selected <- select(adult_data, income, hours_per_week, education_num, education) \n",
    "adult_split <- initial_split(adult_data_selected, prop = 0.75, strata = income)\n",
    "adult_training <- training(adult_split) \n",
    "adult_testing <- testing(adult_split)\n",
    "adult_testing_recipe <- recipe(income ~ education_num, hours_per_week, data = adult_training) |>\n",
    "    step_center(all_predictors()) |>\n",
    "    step_scale(all_predictors())\n",
    "\n",
    "\n",
    "\n",
    "\n"
   ]
  },
  {
   "cell_type": "markdown",
   "id": "ddad6fc1-1e49-4610-8e32-9ed3bd0ca674",
   "metadata": {},
   "source": [
    "### Exploratory Data Analysis"
   ]
  },
  {
   "cell_type": "code",
   "execution_count": 4,
   "id": "a9f02f18-eb35-46d0-99a6-09778798e38f",
   "metadata": {
    "tags": []
   },
   "outputs": [
    {
     "data": {
      "text/html": [
       "<table class=\"dataframe\">\n",
       "<caption>A tibble: 2 × 2</caption>\n",
       "<thead>\n",
       "\t<tr><th scope=col>income</th><th scope=col>count</th></tr>\n",
       "\t<tr><th scope=col>&lt;chr&gt;</th><th scope=col>&lt;int&gt;</th></tr>\n",
       "</thead>\n",
       "<tbody>\n",
       "\t<tr><td>&lt;=50K</td><td>24719</td></tr>\n",
       "\t<tr><td>&gt;50K </td><td> 7841</td></tr>\n",
       "</tbody>\n",
       "</table>\n"
      ],
      "text/latex": [
       "A tibble: 2 × 2\n",
       "\\begin{tabular}{ll}\n",
       " income & count\\\\\n",
       " <chr> & <int>\\\\\n",
       "\\hline\n",
       "\t <=50K & 24719\\\\\n",
       "\t >50K  &  7841\\\\\n",
       "\\end{tabular}\n"
      ],
      "text/markdown": [
       "\n",
       "A tibble: 2 × 2\n",
       "\n",
       "| income &lt;chr&gt; | count &lt;int&gt; |\n",
       "|---|---|\n",
       "| &lt;=50K | 24719 |\n",
       "| &gt;50K  |  7841 |\n",
       "\n"
      ],
      "text/plain": [
       "  income count\n",
       "1 <=50K  24719\n",
       "2 >50K    7841"
      ]
     },
     "metadata": {},
     "output_type": "display_data"
    },
    {
     "data": {
      "text/html": [
       "<table class=\"dataframe\">\n",
       "<caption>A tibble: 2 × 2</caption>\n",
       "<thead>\n",
       "\t<tr><th scope=col>income</th><th scope=col>mean_hrs_per_wk</th></tr>\n",
       "\t<tr><th scope=col>&lt;chr&gt;</th><th scope=col>&lt;dbl&gt;</th></tr>\n",
       "</thead>\n",
       "<tbody>\n",
       "\t<tr><td>&lt;=50K</td><td>38.84016</td></tr>\n",
       "\t<tr><td>&gt;50K </td><td>45.47303</td></tr>\n",
       "</tbody>\n",
       "</table>\n"
      ],
      "text/latex": [
       "A tibble: 2 × 2\n",
       "\\begin{tabular}{ll}\n",
       " income & mean\\_hrs\\_per\\_wk\\\\\n",
       " <chr> & <dbl>\\\\\n",
       "\\hline\n",
       "\t <=50K & 38.84016\\\\\n",
       "\t >50K  & 45.47303\\\\\n",
       "\\end{tabular}\n"
      ],
      "text/markdown": [
       "\n",
       "A tibble: 2 × 2\n",
       "\n",
       "| income &lt;chr&gt; | mean_hrs_per_wk &lt;dbl&gt; |\n",
       "|---|---|\n",
       "| &lt;=50K | 38.84016 |\n",
       "| &gt;50K  | 45.47303 |\n",
       "\n"
      ],
      "text/plain": [
       "  income mean_hrs_per_wk\n",
       "1 <=50K  38.84016       \n",
       "2 >50K   45.47303       "
      ]
     },
     "metadata": {},
     "output_type": "display_data"
    },
    {
     "data": {
      "text/html": [
       "<table class=\"dataframe\">\n",
       "<caption>A tibble: 2 × 2</caption>\n",
       "<thead>\n",
       "\t<tr><th scope=col>income</th><th scope=col>mean_education_num</th></tr>\n",
       "\t<tr><th scope=col>&lt;chr&gt;</th><th scope=col>&lt;dbl&gt;</th></tr>\n",
       "</thead>\n",
       "<tbody>\n",
       "\t<tr><td>&lt;=50K</td><td> 9.594927</td></tr>\n",
       "\t<tr><td>&gt;50K </td><td>11.611657</td></tr>\n",
       "</tbody>\n",
       "</table>\n"
      ],
      "text/latex": [
       "A tibble: 2 × 2\n",
       "\\begin{tabular}{ll}\n",
       " income & mean\\_education\\_num\\\\\n",
       " <chr> & <dbl>\\\\\n",
       "\\hline\n",
       "\t <=50K &  9.594927\\\\\n",
       "\t >50K  & 11.611657\\\\\n",
       "\\end{tabular}\n"
      ],
      "text/markdown": [
       "\n",
       "A tibble: 2 × 2\n",
       "\n",
       "| income &lt;chr&gt; | mean_education_num &lt;dbl&gt; |\n",
       "|---|---|\n",
       "| &lt;=50K |  9.594927 |\n",
       "| &gt;50K  | 11.611657 |\n",
       "\n"
      ],
      "text/plain": [
       "  income mean_education_num\n",
       "1 <=50K   9.594927         \n",
       "2 >50K   11.611657         "
      ]
     },
     "metadata": {},
     "output_type": "display_data"
    }
   ],
   "source": [
    "income_sum <- adult_data_selected |> \n",
    "                group_by(income) |> \n",
    "                summarize(count = n())\n",
    "\n",
    "\n",
    "mean_hrs_per_wk <- adult_data_selected |>\n",
    "                group_by(income) |>\n",
    "                summarize(mean_hrs_per_wk = mean(hours_per_week) )\n",
    "mean_education_num <- adult_data_selected |>\n",
    "                group_by(income)|>\n",
    "                summarize(mean_education_num = mean(education_num))\n",
    "\n",
    "income_sum\n",
    "mean_hrs_per_wk\n",
    "mean_education_num"
   ]
  },
  {
   "cell_type": "markdown",
   "id": "c1c44a50-7707-49f6-8d87-1d6a8e2025db",
   "metadata": {},
   "source": [
    "### Visualization"
   ]
  },
  {
   "cell_type": "markdown",
   "id": "9c916368-c42a-443a-aa97-065775af8529",
   "metadata": {},
   "source": [
    "### DISCLAIMER: This model takes a while to run due to there being 32560 individuals."
   ]
  },
  {
   "cell_type": "code",
   "execution_count": null,
   "id": "78a6ce10-2add-4ff4-9bbf-77ec2b2187f6",
   "metadata": {
    "tags": []
   },
   "outputs": [],
   "source": [
    "knn_spec <- nearest_neighbor(weight_func = \"rectangular\", neighbors = tune()) |>\n",
    "    set_engine(\"kknn\") |>\n",
    "    set_mode(\"classification\")\n",
    "\n",
    "adult_testing_recipe <- recipe(income ~ education_num + hours_per_week, data = adult_training) |>\n",
    "    step_center(all_predictors()) |>\n",
    "    step_scale(all_predictors())\n",
    "\n",
    "adult_vfold <- vfold_cv(adult_training, v = 5, strata = income)\n",
    "\n",
    "gridvals <- tibble(neighbors = seq(from = 1, to = 500, by = 20))\n",
    "\n",
    "adult_training_workflow <- workflow() |>\n",
    "                add_recipe(adult_testing_recipe) |>\n",
    "                add_model(knn_spec) |>\n",
    "                tune_grid(resamples = adult_vfold, grid = gridvals) \n",
    "\n",
    "\n",
    "adult_metrics <- adult_training_workflow |>\n",
    "collect_metrics() |>\n",
    "filter(.metric == \"accuracy\")\n",
    "\n",
    "\n"
   ]
  },
  {
   "cell_type": "code",
   "execution_count": null,
   "id": "4f7aef21-9fad-4033-9f9b-28e73dbe9459",
   "metadata": {
    "tags": []
   },
   "outputs": [],
   "source": [
    "adult_metric_plot <- ggplot(adult_metrics, aes(x = neighbors, y = mean)) +\n",
    "    geom_point() +\n",
    "    geom_line() +\n",
    "    labs(x = \"Neighbors\", y = \"Accuracy Estimate\")\n",
    "adult_metric_plot\n",
    "\n",
    "adult_max <- adult_metrics |>\n",
    "        filter(neighbors == max(neighbors))\n",
    "       \n",
    "a_max <- adult_max |> pull(neighbors)\n",
    "\n",
    "a_max\n"
   ]
  },
  {
   "cell_type": "markdown",
   "id": "14f602ed-7098-47a8-9502-f76ab77b74cd",
   "metadata": {},
   "source": [
    "Works Cited\n",
    "\n",
    "Fuller, J., Raman, M., et al. (2017). Dismissed By Degrees. Published by Accenture, Grads of Life, Harvard Business School.\n"
   ]
  },
  {
   "cell_type": "code",
   "execution_count": null,
   "id": "f717ffbf-7001-410c-ba00-5d3f29c724d5",
   "metadata": {},
   "outputs": [],
   "source": []
  }
 ],
 "metadata": {
  "kernelspec": {
   "display_name": "R",
   "language": "R",
   "name": "ir"
  },
  "language_info": {
   "codemirror_mode": "r",
   "file_extension": ".r",
   "mimetype": "text/x-r-source",
   "name": "R",
   "pygments_lexer": "r",
   "version": "4.2.2"
  }
 },
 "nbformat": 4,
 "nbformat_minor": 5
}
