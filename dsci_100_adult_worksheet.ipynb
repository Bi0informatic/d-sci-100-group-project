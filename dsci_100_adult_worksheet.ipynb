{
 "cells": [
  {
   "cell_type": "code",
   "execution_count": 2,
   "id": "6317f745-aedc-4c5a-890f-f3dc40a4faad",
   "metadata": {
    "tags": []
   },
   "outputs": [
    {
     "name": "stderr",
     "output_type": "stream",
     "text": [
      "── \u001b[1mAttaching packages\u001b[22m ─────────────────────────────────────── tidyverse 1.3.2 ──\n",
      "\u001b[32m✔\u001b[39m \u001b[34mggplot2\u001b[39m 3.4.2     \u001b[32m✔\u001b[39m \u001b[34mpurrr  \u001b[39m 1.0.1\n",
      "\u001b[32m✔\u001b[39m \u001b[34mtibble \u001b[39m 3.2.1     \u001b[32m✔\u001b[39m \u001b[34mdplyr  \u001b[39m 1.1.1\n",
      "\u001b[32m✔\u001b[39m \u001b[34mtidyr  \u001b[39m 1.3.0     \u001b[32m✔\u001b[39m \u001b[34mstringr\u001b[39m 1.5.0\n",
      "\u001b[32m✔\u001b[39m \u001b[34mreadr  \u001b[39m 2.1.3     \u001b[32m✔\u001b[39m \u001b[34mforcats\u001b[39m 0.5.2\n",
      "── \u001b[1mConflicts\u001b[22m ────────────────────────────────────────── tidyverse_conflicts() ──\n",
      "\u001b[31m✖\u001b[39m \u001b[34mdplyr\u001b[39m::\u001b[32mfilter()\u001b[39m masks \u001b[34mstats\u001b[39m::filter()\n",
      "\u001b[31m✖\u001b[39m \u001b[34mdplyr\u001b[39m::\u001b[32mlag()\u001b[39m    masks \u001b[34mstats\u001b[39m::lag()\n",
      "── \u001b[1mAttaching packages\u001b[22m ────────────────────────────────────── tidymodels 1.0.0 ──\n",
      "\n",
      "\u001b[32m✔\u001b[39m \u001b[34mbroom       \u001b[39m 1.0.2     \u001b[32m✔\u001b[39m \u001b[34mrsample     \u001b[39m 1.1.1\n",
      "\u001b[32m✔\u001b[39m \u001b[34mdials       \u001b[39m 1.1.0     \u001b[32m✔\u001b[39m \u001b[34mtune        \u001b[39m 1.0.1\n",
      "\u001b[32m✔\u001b[39m \u001b[34minfer       \u001b[39m 1.0.4     \u001b[32m✔\u001b[39m \u001b[34mworkflows   \u001b[39m 1.1.2\n",
      "\u001b[32m✔\u001b[39m \u001b[34mmodeldata   \u001b[39m 1.0.1     \u001b[32m✔\u001b[39m \u001b[34mworkflowsets\u001b[39m 1.0.0\n",
      "\u001b[32m✔\u001b[39m \u001b[34mparsnip     \u001b[39m 1.0.3     \u001b[32m✔\u001b[39m \u001b[34myardstick   \u001b[39m 1.1.0\n",
      "\u001b[32m✔\u001b[39m \u001b[34mrecipes     \u001b[39m 1.0.4     \n",
      "\n",
      "── \u001b[1mConflicts\u001b[22m ───────────────────────────────────────── tidymodels_conflicts() ──\n",
      "\u001b[31m✖\u001b[39m \u001b[34mscales\u001b[39m::\u001b[32mdiscard()\u001b[39m masks \u001b[34mpurrr\u001b[39m::discard()\n",
      "\u001b[31m✖\u001b[39m \u001b[34mdplyr\u001b[39m::\u001b[32mfilter()\u001b[39m   masks \u001b[34mstats\u001b[39m::filter()\n",
      "\u001b[31m✖\u001b[39m \u001b[34mrecipes\u001b[39m::\u001b[32mfixed()\u001b[39m  masks \u001b[34mstringr\u001b[39m::fixed()\n",
      "\u001b[31m✖\u001b[39m \u001b[34mdplyr\u001b[39m::\u001b[32mlag()\u001b[39m      masks \u001b[34mstats\u001b[39m::lag()\n",
      "\u001b[31m✖\u001b[39m \u001b[34myardstick\u001b[39m::\u001b[32mspec()\u001b[39m masks \u001b[34mreadr\u001b[39m::spec()\n",
      "\u001b[31m✖\u001b[39m \u001b[34mrecipes\u001b[39m::\u001b[32mstep()\u001b[39m   masks \u001b[34mstats\u001b[39m::step()\n",
      "\u001b[34m•\u001b[39m Search for functions across packages at \u001b[32mhttps://www.tidymodels.org/find/\u001b[39m\n",
      "\n",
      "Updating HTML index of packages in '.Library'\n",
      "\n",
      "Making 'packages.html' ...\n",
      " done\n",
      "\n"
     ]
    }
   ],
   "source": [
    "### Run this cell before continuing. \n",
    "library(tidyverse)\n",
    "library(repr)\n",
    "library(readxl)\n",
    "library(tidymodels)\n",
    "install.packages(\"kknn\")\n",
    "library(kknn)\n",
    "\n",
    "options(repr.matrix.max.rows = 6)"
   ]
  },
  {
   "cell_type": "code",
   "execution_count": 3,
   "id": "51ae174a-3b7a-4b75-9d28-77bc5e33a078",
   "metadata": {
    "tags": []
   },
   "outputs": [
    {
     "name": "stderr",
     "output_type": "stream",
     "text": [
      "\u001b[1mRows: \u001b[22m\u001b[34m32560\u001b[39m \u001b[1mColumns: \u001b[22m\u001b[34m15\u001b[39m\n",
      "\u001b[36m──\u001b[39m \u001b[1mColumn specification\u001b[22m \u001b[36m────────────────────────────────────────────────────────\u001b[39m\n",
      "\u001b[1mDelimiter:\u001b[22m \",\"\n",
      "\u001b[31mchr\u001b[39m (9): State-gov, Bachelors, Never-married, Adm-clerical, Not-in-family, W...\n",
      "\u001b[32mdbl\u001b[39m (6): 39, 77516, 13, 2174, 0, 40\n",
      "\n",
      "\u001b[36mℹ\u001b[39m Use `spec()` to retrieve the full column specification for this data.\n",
      "\u001b[36mℹ\u001b[39m Specify the column types or set `show_col_types = FALSE` to quiet this message.\n"
     ]
    },
    {
     "data": {
      "text/html": [
       "<table class=\"dataframe\">\n",
       "<caption>A spec_tbl_df: 32560 × 15</caption>\n",
       "<thead>\n",
       "\t<tr><th scope=col>age</th><th scope=col>workclass</th><th scope=col>fnlwgt</th><th scope=col>education</th><th scope=col>education_num</th><th scope=col>marital_status</th><th scope=col>occupation</th><th scope=col>relationship</th><th scope=col>race</th><th scope=col>sex</th><th scope=col>capital_gain</th><th scope=col>capital_loss</th><th scope=col>hours_per_week</th><th scope=col>native_country</th><th scope=col>income</th></tr>\n",
       "\t<tr><th scope=col>&lt;dbl&gt;</th><th scope=col>&lt;chr&gt;</th><th scope=col>&lt;dbl&gt;</th><th scope=col>&lt;chr&gt;</th><th scope=col>&lt;dbl&gt;</th><th scope=col>&lt;chr&gt;</th><th scope=col>&lt;chr&gt;</th><th scope=col>&lt;chr&gt;</th><th scope=col>&lt;chr&gt;</th><th scope=col>&lt;chr&gt;</th><th scope=col>&lt;dbl&gt;</th><th scope=col>&lt;dbl&gt;</th><th scope=col>&lt;dbl&gt;</th><th scope=col>&lt;chr&gt;</th><th scope=col>&lt;chr&gt;</th></tr>\n",
       "</thead>\n",
       "<tbody>\n",
       "\t<tr><td>50</td><td>Self-emp-not-inc</td><td> 83311</td><td>Bachelors</td><td>13</td><td>Married-civ-spouse</td><td><span style=white-space:pre-wrap>Exec-managerial  </span></td><td><span style=white-space:pre-wrap>Husband      </span></td><td>White</td><td>Male</td><td>0</td><td>0</td><td>13</td><td>United-States</td><td>&lt;=50K</td></tr>\n",
       "\t<tr><td>38</td><td><span style=white-space:pre-wrap>Private         </span></td><td>215646</td><td><span style=white-space:pre-wrap>HS-grad  </span></td><td> 9</td><td><span style=white-space:pre-wrap>Divorced          </span></td><td>Handlers-cleaners</td><td>Not-in-family</td><td>White</td><td>Male</td><td>0</td><td>0</td><td>40</td><td>United-States</td><td>&lt;=50K</td></tr>\n",
       "\t<tr><td>53</td><td><span style=white-space:pre-wrap>Private         </span></td><td>234721</td><td><span style=white-space:pre-wrap>11th     </span></td><td> 7</td><td>Married-civ-spouse</td><td>Handlers-cleaners</td><td><span style=white-space:pre-wrap>Husband      </span></td><td>Black</td><td>Male</td><td>0</td><td>0</td><td>40</td><td>United-States</td><td>&lt;=50K</td></tr>\n",
       "\t<tr><td>⋮</td><td>⋮</td><td>⋮</td><td>⋮</td><td>⋮</td><td>⋮</td><td>⋮</td><td>⋮</td><td>⋮</td><td>⋮</td><td>⋮</td><td>⋮</td><td>⋮</td><td>⋮</td><td>⋮</td></tr>\n",
       "\t<tr><td>58</td><td><span style=white-space:pre-wrap>Private     </span></td><td>151910</td><td>HS-grad</td><td>9</td><td><span style=white-space:pre-wrap>Widowed           </span></td><td><span style=white-space:pre-wrap>Adm-clerical   </span></td><td>Unmarried</td><td>White</td><td>Female</td><td><span style=white-space:pre-wrap>    0</span></td><td>0</td><td>40</td><td>United-States</td><td>&lt;=50K</td></tr>\n",
       "\t<tr><td>22</td><td><span style=white-space:pre-wrap>Private     </span></td><td>201490</td><td>HS-grad</td><td>9</td><td><span style=white-space:pre-wrap>Never-married     </span></td><td><span style=white-space:pre-wrap>Adm-clerical   </span></td><td>Own-child</td><td>White</td><td><span style=white-space:pre-wrap>Male  </span></td><td><span style=white-space:pre-wrap>    0</span></td><td>0</td><td>20</td><td>United-States</td><td>&lt;=50K</td></tr>\n",
       "\t<tr><td>52</td><td>Self-emp-inc</td><td>287927</td><td>HS-grad</td><td>9</td><td>Married-civ-spouse</td><td>Exec-managerial</td><td><span style=white-space:pre-wrap>Wife     </span></td><td>White</td><td>Female</td><td>15024</td><td>0</td><td>40</td><td>United-States</td><td>&gt;50K </td></tr>\n",
       "</tbody>\n",
       "</table>\n"
      ],
      "text/latex": [
       "A spec\\_tbl\\_df: 32560 × 15\n",
       "\\begin{tabular}{lllllllllllllll}\n",
       " age & workclass & fnlwgt & education & education\\_num & marital\\_status & occupation & relationship & race & sex & capital\\_gain & capital\\_loss & hours\\_per\\_week & native\\_country & income\\\\\n",
       " <dbl> & <chr> & <dbl> & <chr> & <dbl> & <chr> & <chr> & <chr> & <chr> & <chr> & <dbl> & <dbl> & <dbl> & <chr> & <chr>\\\\\n",
       "\\hline\n",
       "\t 50 & Self-emp-not-inc &  83311 & Bachelors & 13 & Married-civ-spouse & Exec-managerial   & Husband       & White & Male & 0 & 0 & 13 & United-States & <=50K\\\\\n",
       "\t 38 & Private          & 215646 & HS-grad   &  9 & Divorced           & Handlers-cleaners & Not-in-family & White & Male & 0 & 0 & 40 & United-States & <=50K\\\\\n",
       "\t 53 & Private          & 234721 & 11th      &  7 & Married-civ-spouse & Handlers-cleaners & Husband       & Black & Male & 0 & 0 & 40 & United-States & <=50K\\\\\n",
       "\t ⋮ & ⋮ & ⋮ & ⋮ & ⋮ & ⋮ & ⋮ & ⋮ & ⋮ & ⋮ & ⋮ & ⋮ & ⋮ & ⋮ & ⋮\\\\\n",
       "\t 58 & Private      & 151910 & HS-grad & 9 & Widowed            & Adm-clerical    & Unmarried & White & Female &     0 & 0 & 40 & United-States & <=50K\\\\\n",
       "\t 22 & Private      & 201490 & HS-grad & 9 & Never-married      & Adm-clerical    & Own-child & White & Male   &     0 & 0 & 20 & United-States & <=50K\\\\\n",
       "\t 52 & Self-emp-inc & 287927 & HS-grad & 9 & Married-civ-spouse & Exec-managerial & Wife      & White & Female & 15024 & 0 & 40 & United-States & >50K \\\\\n",
       "\\end{tabular}\n"
      ],
      "text/markdown": [
       "\n",
       "A spec_tbl_df: 32560 × 15\n",
       "\n",
       "| age &lt;dbl&gt; | workclass &lt;chr&gt; | fnlwgt &lt;dbl&gt; | education &lt;chr&gt; | education_num &lt;dbl&gt; | marital_status &lt;chr&gt; | occupation &lt;chr&gt; | relationship &lt;chr&gt; | race &lt;chr&gt; | sex &lt;chr&gt; | capital_gain &lt;dbl&gt; | capital_loss &lt;dbl&gt; | hours_per_week &lt;dbl&gt; | native_country &lt;chr&gt; | income &lt;chr&gt; |\n",
       "|---|---|---|---|---|---|---|---|---|---|---|---|---|---|---|\n",
       "| 50 | Self-emp-not-inc |  83311 | Bachelors | 13 | Married-civ-spouse | Exec-managerial   | Husband       | White | Male | 0 | 0 | 13 | United-States | &lt;=50K |\n",
       "| 38 | Private          | 215646 | HS-grad   |  9 | Divorced           | Handlers-cleaners | Not-in-family | White | Male | 0 | 0 | 40 | United-States | &lt;=50K |\n",
       "| 53 | Private          | 234721 | 11th      |  7 | Married-civ-spouse | Handlers-cleaners | Husband       | Black | Male | 0 | 0 | 40 | United-States | &lt;=50K |\n",
       "| ⋮ | ⋮ | ⋮ | ⋮ | ⋮ | ⋮ | ⋮ | ⋮ | ⋮ | ⋮ | ⋮ | ⋮ | ⋮ | ⋮ | ⋮ |\n",
       "| 58 | Private      | 151910 | HS-grad | 9 | Widowed            | Adm-clerical    | Unmarried | White | Female |     0 | 0 | 40 | United-States | &lt;=50K |\n",
       "| 22 | Private      | 201490 | HS-grad | 9 | Never-married      | Adm-clerical    | Own-child | White | Male   |     0 | 0 | 20 | United-States | &lt;=50K |\n",
       "| 52 | Self-emp-inc | 287927 | HS-grad | 9 | Married-civ-spouse | Exec-managerial | Wife      | White | Female | 15024 | 0 | 40 | United-States | &gt;50K  |\n",
       "\n"
      ],
      "text/plain": [
       "      age workclass        fnlwgt education education_num marital_status    \n",
       "1     50  Self-emp-not-inc  83311 Bachelors 13            Married-civ-spouse\n",
       "2     38  Private          215646 HS-grad    9            Divorced          \n",
       "3     53  Private          234721 11th       7            Married-civ-spouse\n",
       "⋮     ⋮   ⋮                ⋮      ⋮         ⋮             ⋮                 \n",
       "32558 58  Private          151910 HS-grad   9             Widowed           \n",
       "32559 22  Private          201490 HS-grad   9             Never-married     \n",
       "32560 52  Self-emp-inc     287927 HS-grad   9             Married-civ-spouse\n",
       "      occupation        relationship  race  sex    capital_gain capital_loss\n",
       "1     Exec-managerial   Husband       White Male   0            0           \n",
       "2     Handlers-cleaners Not-in-family White Male   0            0           \n",
       "3     Handlers-cleaners Husband       Black Male   0            0           \n",
       "⋮     ⋮                 ⋮             ⋮     ⋮      ⋮            ⋮           \n",
       "32558 Adm-clerical      Unmarried     White Female     0        0           \n",
       "32559 Adm-clerical      Own-child     White Male       0        0           \n",
       "32560 Exec-managerial   Wife          White Female 15024        0           \n",
       "      hours_per_week native_country income\n",
       "1     13             United-States  <=50K \n",
       "2     40             United-States  <=50K \n",
       "3     40             United-States  <=50K \n",
       "⋮     ⋮              ⋮              ⋮     \n",
       "32558 40             United-States  <=50K \n",
       "32559 20             United-States  <=50K \n",
       "32560 40             United-States  >50K  "
      ]
     },
     "metadata": {},
     "output_type": "display_data"
    }
   ],
   "source": [
    "adult_data <- read_csv(\"data/adult.data\")\n",
    "colnames(adult_data) <- c(\"age\", \"workclass\", \"fnlwgt\", \"education\", \"education_num\", \"marital_status\", \"occupation\", \"relationship\", \"race\", \"sex\", \"capital_gain\", \"capital_loss\", \"hours_per_week\", \"native_country\", \"income\")\n",
    "adult_data"
   ]
  },
  {
   "cell_type": "code",
   "execution_count": 4,
   "id": "600bb39b-c00d-465b-877d-2d443ad0716e",
   "metadata": {
    "tags": []
   },
   "outputs": [],
   "source": [
    "adult_data_selected <- select(adult_data, income, hours_per_week, education_num, education) \n",
    "adult_split <- initial_split(adult_data_selected, prop = 0.75, strata = income)\n",
    "adult_training <- training(adult_split) \n",
    "adult_testing <- testing(adult_split)\n",
    "adult_testing_recipe <- recipe(income ~ education_num, hours_per_week, data = adult_training) |>\n",
    "    step_center(all_predictors()) |>\n",
    "    step_scale(all_predictors())\n",
    "\n",
    "\n",
    "\n",
    "\n"
   ]
  },
  {
   "cell_type": "code",
   "execution_count": 7,
   "id": "a9f02f18-eb35-46d0-99a6-09778798e38f",
   "metadata": {
    "tags": []
   },
   "outputs": [
    {
     "data": {
      "text/html": [
       "<table class=\"dataframe\">\n",
       "<caption>A tibble: 32560 × 5</caption>\n",
       "<thead>\n",
       "\t<tr><th scope=col>income</th><th scope=col>hours_per_week</th><th scope=col>education_num</th><th scope=col>education</th><th scope=col>mean_ed_num</th></tr>\n",
       "\t<tr><th scope=col>&lt;chr&gt;</th><th scope=col>&lt;dbl&gt;</th><th scope=col>&lt;dbl&gt;</th><th scope=col>&lt;chr&gt;</th><th scope=col>&lt;dbl&gt;</th></tr>\n",
       "</thead>\n",
       "<tbody>\n",
       "\t<tr><td>&lt;=50K</td><td>13</td><td>13</td><td>Bachelors</td><td>10.08059</td></tr>\n",
       "\t<tr><td>&lt;=50K</td><td>40</td><td> 9</td><td><span style=white-space:pre-wrap>HS-grad  </span></td><td>10.08059</td></tr>\n",
       "\t<tr><td>&lt;=50K</td><td>40</td><td> 7</td><td><span style=white-space:pre-wrap>11th     </span></td><td>10.08059</td></tr>\n",
       "\t<tr><td>⋮</td><td>⋮</td><td>⋮</td><td>⋮</td><td>⋮</td></tr>\n",
       "\t<tr><td>&lt;=50K</td><td>40</td><td>9</td><td>HS-grad</td><td>10.08059</td></tr>\n",
       "\t<tr><td>&lt;=50K</td><td>20</td><td>9</td><td>HS-grad</td><td>10.08059</td></tr>\n",
       "\t<tr><td>&gt;50K </td><td>40</td><td>9</td><td>HS-grad</td><td>10.08059</td></tr>\n",
       "</tbody>\n",
       "</table>\n"
      ],
      "text/latex": [
       "A tibble: 32560 × 5\n",
       "\\begin{tabular}{lllll}\n",
       " income & hours\\_per\\_week & education\\_num & education & mean\\_ed\\_num\\\\\n",
       " <chr> & <dbl> & <dbl> & <chr> & <dbl>\\\\\n",
       "\\hline\n",
       "\t <=50K & 13 & 13 & Bachelors & 10.08059\\\\\n",
       "\t <=50K & 40 &  9 & HS-grad   & 10.08059\\\\\n",
       "\t <=50K & 40 &  7 & 11th      & 10.08059\\\\\n",
       "\t ⋮ & ⋮ & ⋮ & ⋮ & ⋮\\\\\n",
       "\t <=50K & 40 & 9 & HS-grad & 10.08059\\\\\n",
       "\t <=50K & 20 & 9 & HS-grad & 10.08059\\\\\n",
       "\t >50K  & 40 & 9 & HS-grad & 10.08059\\\\\n",
       "\\end{tabular}\n"
      ],
      "text/markdown": [
       "\n",
       "A tibble: 32560 × 5\n",
       "\n",
       "| income &lt;chr&gt; | hours_per_week &lt;dbl&gt; | education_num &lt;dbl&gt; | education &lt;chr&gt; | mean_ed_num &lt;dbl&gt; |\n",
       "|---|---|---|---|---|\n",
       "| &lt;=50K | 13 | 13 | Bachelors | 10.08059 |\n",
       "| &lt;=50K | 40 |  9 | HS-grad   | 10.08059 |\n",
       "| &lt;=50K | 40 |  7 | 11th      | 10.08059 |\n",
       "| ⋮ | ⋮ | ⋮ | ⋮ | ⋮ |\n",
       "| &lt;=50K | 40 | 9 | HS-grad | 10.08059 |\n",
       "| &lt;=50K | 20 | 9 | HS-grad | 10.08059 |\n",
       "| &gt;50K  | 40 | 9 | HS-grad | 10.08059 |\n",
       "\n"
      ],
      "text/plain": [
       "      income hours_per_week education_num education mean_ed_num\n",
       "1     <=50K  13             13            Bachelors 10.08059   \n",
       "2     <=50K  40              9            HS-grad   10.08059   \n",
       "3     <=50K  40              7            11th      10.08059   \n",
       "⋮     ⋮      ⋮              ⋮             ⋮         ⋮          \n",
       "32558 <=50K  40             9             HS-grad   10.08059   \n",
       "32559 <=50K  20             9             HS-grad   10.08059   \n",
       "32560 >50K   40             9             HS-grad   10.08059   "
      ]
     },
     "metadata": {},
     "output_type": "display_data"
    }
   ],
   "source": [
    "greater_income <- adult_data_selected |>\n",
    "        filter(income == \">50K\")\n",
    "\n",
    "lower_income <- adult_data_selected |>\n",
    "        filter(income == \"<=50K\")\n",
    "\n",
    "mean_hrs_per_wk <- adult_data_selected |>\n",
    "                mutate(mean_hrs = mean(hours_per_week) )\n",
    "mean_education_num <- adult_data_selected |>\n",
    "                mutate(mean_ed_num = mean(education_num) )\n",
    "mean_education_num"
   ]
  },
  {
   "cell_type": "code",
   "execution_count": null,
   "id": "78a6ce10-2add-4ff4-9bbf-77ec2b2187f6",
   "metadata": {
    "tags": []
   },
   "outputs": [],
   "source": [
    "knn_spec <- nearest_neighbor(weight_func = \"rectangular\", neighbors = tune()) |>\n",
    "    set_engine(\"kknn\") |>\n",
    "    set_mode(\"classification\")\n",
    "\n",
    "adult_testing_recipe <- recipe(income ~ education_num + hours_per_week, data = adult_training) |>\n",
    "    step_center(all_predictors()) |>\n",
    "    step_scale(all_predictors())\n",
    "\n",
    "adult_vfold <- vfold_cv(adult_training, v = 5, strata = income)\n",
    "\n",
    "gridvals <- tibble(neighbors = seq(from = 1, to = 500, by = 20))\n",
    "\n",
    "adult_training_workflow <- workflow() |>\n",
    "                add_recipe(adult_testing_recipe) |>\n",
    "                add_model(knn_spec) |>\n",
    "                tune_grid(resamples = adult_vfold, grid = gridvals) \n",
    "\n",
    "\n",
    "adult_metrics <- adult_training_workflow |>\n",
    "collect_metrics() |>\n",
    "filter(.metric == \"accuracy\")\n",
    "\n",
    "\n"
   ]
  },
  {
   "cell_type": "code",
   "execution_count": null,
   "id": "4f7aef21-9fad-4033-9f9b-28e73dbe9459",
   "metadata": {
    "tags": []
   },
   "outputs": [],
   "source": [
    "adult_metric_plot <- ggplot(adult_metrics, aes(x = neighbors, y = mean)) +\n",
    "    geom_point() +\n",
    "    geom_line() +\n",
    "    labs(x = \"Neighbors\", y = \"Accuracy Estimate\")\n",
    "adult_metric_plot\n",
    "\n",
    "adult_min <- adult_metrics |>\n",
    "        filter(neighbors == max(neighbors))\n",
    "       \n",
    "a_min <- adult_min |> pull(neighbors)\n",
    "\n",
    "a_min\n"
   ]
  },
  {
   "cell_type": "code",
   "execution_count": 13,
   "id": "fbba6acf-2440-4c41-b1d9-e169fe504329",
   "metadata": {},
   "outputs": [
    {
     "data": {
      "text/html": [
       "3"
      ],
      "text/latex": [
       "3"
      ],
      "text/markdown": [
       "3"
      ],
      "text/plain": [
       "[1] 3"
      ]
     },
     "metadata": {},
     "output_type": "display_data"
    }
   ],
   "source": []
  },
  {
   "cell_type": "code",
   "execution_count": null,
   "id": "be55b3e3-9d64-419b-bc88-523d91e1a1c0",
   "metadata": {},
   "outputs": [],
   "source": []
  }
 ],
 "metadata": {
  "kernelspec": {
   "display_name": "R",
   "language": "R",
   "name": "ir"
  },
  "language_info": {
   "codemirror_mode": "r",
   "file_extension": ".r",
   "mimetype": "text/x-r-source",
   "name": "R",
   "pygments_lexer": "r",
   "version": "4.2.2"
  }
 },
 "nbformat": 4,
 "nbformat_minor": 5
}
